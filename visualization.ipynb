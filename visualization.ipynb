{
  "nbformat": 4,
  "nbformat_minor": 0,
  "metadata": {
    "colab": {
      "name": "visualization",
      "provenance": [],
      "collapsed_sections": []
    },
    "kernelspec": {
      "name": "python3",
      "display_name": "Python 3"
    }
  },
  "cells": [
    {
      "cell_type": "code",
      "metadata": {
        "id": "iB1O4eQobpVB",
        "colab_type": "code",
        "colab": {}
      },
      "source": [
        "#https://medium.com/supervised-learning-on-python-predicting-customer/supervised-learning-on-python-predicting-customer-churn-1-5d661b07715f\n",
        "\n",
        "import numpy as np\n",
        "import pandas as pd\n",
        "import copy\n",
        "%matplotlib inline\n"
      ],
      "execution_count": 0,
      "outputs": []
    },
    {
      "cell_type": "code",
      "metadata": {
        "id": "UDMP3_astVA1",
        "colab_type": "code",
        "colab": {}
      },
      "source": [
        "import matplotlib.pyplot as plt\n",
        "import seaborn as sns\n",
        "import folium as f\n",
        "from IPython.display import HTML\n"
      ],
      "execution_count": 0,
      "outputs": []
    },
    {
      "cell_type": "code",
      "metadata": {
        "id": "gzn_0RsUtdn6",
        "colab_type": "code",
        "colab": {
          "base_uri": "https://localhost:8080/",
          "height": 139
        },
        "outputId": "5e64e152-1100-48b0-bc21-345da322e13e"
      },
      "source": [
        "pip install imblearn"
      ],
      "execution_count": 19,
      "outputs": [
        {
          "output_type": "stream",
          "text": [
            "Requirement already satisfied: imblearn in /usr/local/lib/python3.6/dist-packages (0.0)\n",
            "Requirement already satisfied: imbalanced-learn in /usr/local/lib/python3.6/dist-packages (from imblearn) (0.4.3)\n",
            "Requirement already satisfied: numpy>=1.8.2 in /usr/local/lib/python3.6/dist-packages (from imbalanced-learn->imblearn) (1.18.4)\n",
            "Requirement already satisfied: scipy>=0.13.3 in /usr/local/lib/python3.6/dist-packages (from imbalanced-learn->imblearn) (1.4.1)\n",
            "Requirement already satisfied: scikit-learn>=0.20 in /usr/local/lib/python3.6/dist-packages (from imbalanced-learn->imblearn) (0.22.2.post1)\n",
            "Requirement already satisfied: joblib>=0.11 in /usr/local/lib/python3.6/dist-packages (from scikit-learn>=0.20->imbalanced-learn->imblearn) (0.15.1)\n"
          ],
          "name": "stdout"
        }
      ]
    },
    {
      "cell_type": "code",
      "metadata": {
        "id": "pcYm4SmItePV",
        "colab_type": "code",
        "colab": {
          "base_uri": "https://localhost:8080/",
          "height": 105
        },
        "outputId": "6bb1a7df-3e8e-442a-fb12-47680da48c08"
      },
      "source": [
        "from rpy2.robjects import r\n",
        "import rpy2.robjects.pandas2ri as pandas2ri"
      ],
      "execution_count": 20,
      "outputs": [
        {
          "output_type": "stream",
          "text": [
            "/usr/local/lib/python3.6/dist-packages/rpy2/robjects/pandas2ri.py:14: FutureWarning: pandas.core.index is deprecated and will be removed in a future version.  The public classes are available in the top-level namespace.\n",
            "  from pandas.core.index import Index as PandasIndex\n",
            "/usr/local/lib/python3.6/dist-packages/rpy2/robjects/pandas2ri.py:34: UserWarning: pandas >= 1.0 is not supported.\n",
            "  warnings.warn('pandas >= 1.0 is not supported.')\n"
          ],
          "name": "stderr"
        }
      ]
    },
    {
      "cell_type": "code",
      "metadata": {
        "id": "V3B62_WAeCCB",
        "colab_type": "code",
        "colab": {}
      },
      "source": [
        "#import the data\n",
        "data_test = pd.read_csv('data_for_testing.csv', delimiter=';', skiprows=0, low_memory=False)"
      ],
      "execution_count": 0,
      "outputs": []
    },
    {
      "cell_type": "code",
      "metadata": {
        "id": "swNPCaHceB9h",
        "colab_type": "code",
        "colab": {
          "base_uri": "https://localhost:8080/",
          "height": 224
        },
        "outputId": "9cbfeb73-567c-4c4a-c781-c997725191c5"
      },
      "source": [
        "data_test.head()"
      ],
      "execution_count": 7,
      "outputs": [
        {
          "output_type": "execute_result",
          "data": {
            "text/html": [
              "<div>\n",
              "<style scoped>\n",
              "    .dataframe tbody tr th:only-of-type {\n",
              "        vertical-align: middle;\n",
              "    }\n",
              "\n",
              "    .dataframe tbody tr th {\n",
              "        vertical-align: top;\n",
              "    }\n",
              "\n",
              "    .dataframe thead th {\n",
              "        text-align: right;\n",
              "    }\n",
              "</style>\n",
              "<table border=\"1\" class=\"dataframe\">\n",
              "  <thead>\n",
              "    <tr style=\"text-align: right;\">\n",
              "      <th></th>\n",
              "      <th>user_settings_crypto_unlocked</th>\n",
              "      <th>plan</th>\n",
              "      <th>num_contacts</th>\n",
              "      <th>age</th>\n",
              "      <th>duration</th>\n",
              "      <th>total_amount_of_transactions</th>\n",
              "      <th>amount_of_transactions_out</th>\n",
              "      <th>min_usd_out</th>\n",
              "      <th>max_usd_out</th>\n",
              "      <th>mean_usd_out</th>\n",
              "      <th>sum_usd_out</th>\n",
              "      <th>amount_of_transactions_in</th>\n",
              "      <th>min_usd_in</th>\n",
              "      <th>max_usd_in</th>\n",
              "      <th>mean_usd_in</th>\n",
              "      <th>sum_usd_in</th>\n",
              "      <th>count_type_atm</th>\n",
              "      <th>count_type_card_payment</th>\n",
              "      <th>count_type_exchange</th>\n",
              "      <th>count_type_fee</th>\n",
              "      <th>count_type_tax</th>\n",
              "      <th>count_type_transfer_out</th>\n",
              "      <th>count_type_card_refund</th>\n",
              "      <th>count_type_cashback</th>\n",
              "      <th>count_type_refund</th>\n",
              "      <th>count_type_topup</th>\n",
              "      <th>count_type_transfer_in</th>\n",
              "      <th>months_from_last_transaction</th>\n",
              "      <th>months_from_first_transaction</th>\n",
              "      <th>transactions_frequency</th>\n",
              "      <th>email_engagement_split_bill_restaurant</th>\n",
              "      <th>email_invest_in_gold</th>\n",
              "      <th>email_lost_card_order</th>\n",
              "      <th>email_made_money_request_not_split_bill</th>\n",
              "      <th>email_no_initial_card_order</th>\n",
              "      <th>email_no_initial_card_use</th>\n",
              "      <th>email_onboarding_tips_activated_users</th>\n",
              "      <th>email_promo</th>\n",
              "      <th>email_promo_card_order</th>\n",
              "      <th>email_welcome_back</th>\n",
              "      <th>push_black_friday</th>\n",
              "      <th>push_blue_tuesday</th>\n",
              "      <th>push_joining_anniversary</th>\n",
              "      <th>push_lost_card_order</th>\n",
              "      <th>push_promo</th>\n",
              "      <th>push_reengagement_active_funds</th>\n",
              "      <th>push_silver_engagement_fees_saved</th>\n",
              "      <th>push_silver_engagement_inactive_card</th>\n",
              "      <th>sms_metal_reserve_plan</th>\n",
              "      <th>sms_reengagement_active_funds</th>\n",
              "      <th>brands_Android</th>\n",
              "      <th>brands_Apple</th>\n",
              "    </tr>\n",
              "  </thead>\n",
              "  <tbody>\n",
              "    <tr>\n",
              "      <th>0</th>\n",
              "      <td>0</td>\n",
              "      <td>0</td>\n",
              "      <td>3</td>\n",
              "      <td>27</td>\n",
              "      <td>9</td>\n",
              "      <td>520.0</td>\n",
              "      <td>357.0</td>\n",
              "      <td>0.58</td>\n",
              "      <td>510.64</td>\n",
              "      <td>10.167367</td>\n",
              "      <td>3629.75</td>\n",
              "      <td>163.0</td>\n",
              "      <td>8.51</td>\n",
              "      <td>510.64</td>\n",
              "      <td>20.216748</td>\n",
              "      <td>3295.33</td>\n",
              "      <td>0.0</td>\n",
              "      <td>333.0</td>\n",
              "      <td>5.0</td>\n",
              "      <td>0.0</td>\n",
              "      <td>0.0</td>\n",
              "      <td>19.0</td>\n",
              "      <td>1.0</td>\n",
              "      <td>0.0</td>\n",
              "      <td>0.0</td>\n",
              "      <td>158.0</td>\n",
              "      <td>4.0</td>\n",
              "      <td>0.0</td>\n",
              "      <td>9.0</td>\n",
              "      <td>57.777778</td>\n",
              "      <td>0.0</td>\n",
              "      <td>1.0</td>\n",
              "      <td>0.0</td>\n",
              "      <td>0.0</td>\n",
              "      <td>0.0</td>\n",
              "      <td>1.0</td>\n",
              "      <td>4.0</td>\n",
              "      <td>0.0</td>\n",
              "      <td>0.0</td>\n",
              "      <td>0.0</td>\n",
              "      <td>1.0</td>\n",
              "      <td>0.0</td>\n",
              "      <td>0.0</td>\n",
              "      <td>0.0</td>\n",
              "      <td>0.0</td>\n",
              "      <td>1.0</td>\n",
              "      <td>0.0</td>\n",
              "      <td>0.0</td>\n",
              "      <td>0.0</td>\n",
              "      <td>0.0</td>\n",
              "      <td>0</td>\n",
              "      <td>1</td>\n",
              "    </tr>\n",
              "    <tr>\n",
              "      <th>1</th>\n",
              "      <td>1</td>\n",
              "      <td>0</td>\n",
              "      <td>75</td>\n",
              "      <td>34</td>\n",
              "      <td>17</td>\n",
              "      <td>133.0</td>\n",
              "      <td>106.0</td>\n",
              "      <td>0.94</td>\n",
              "      <td>851.06</td>\n",
              "      <td>61.226698</td>\n",
              "      <td>6490.03</td>\n",
              "      <td>27.0</td>\n",
              "      <td>1.70</td>\n",
              "      <td>851.06</td>\n",
              "      <td>239.463333</td>\n",
              "      <td>6465.51</td>\n",
              "      <td>4.0</td>\n",
              "      <td>78.0</td>\n",
              "      <td>0.0</td>\n",
              "      <td>0.0</td>\n",
              "      <td>0.0</td>\n",
              "      <td>24.0</td>\n",
              "      <td>0.0</td>\n",
              "      <td>0.0</td>\n",
              "      <td>0.0</td>\n",
              "      <td>24.0</td>\n",
              "      <td>3.0</td>\n",
              "      <td>0.0</td>\n",
              "      <td>16.0</td>\n",
              "      <td>8.312500</td>\n",
              "      <td>1.0</td>\n",
              "      <td>0.0</td>\n",
              "      <td>0.0</td>\n",
              "      <td>0.0</td>\n",
              "      <td>1.0</td>\n",
              "      <td>3.0</td>\n",
              "      <td>0.0</td>\n",
              "      <td>0.0</td>\n",
              "      <td>0.0</td>\n",
              "      <td>0.0</td>\n",
              "      <td>0.0</td>\n",
              "      <td>0.0</td>\n",
              "      <td>1.0</td>\n",
              "      <td>0.0</td>\n",
              "      <td>1.0</td>\n",
              "      <td>3.0</td>\n",
              "      <td>0.0</td>\n",
              "      <td>0.0</td>\n",
              "      <td>0.0</td>\n",
              "      <td>0.0</td>\n",
              "      <td>0</td>\n",
              "      <td>1</td>\n",
              "    </tr>\n",
              "    <tr>\n",
              "      <th>2</th>\n",
              "      <td>0</td>\n",
              "      <td>0</td>\n",
              "      <td>71</td>\n",
              "      <td>23</td>\n",
              "      <td>7</td>\n",
              "      <td>268.0</td>\n",
              "      <td>225.0</td>\n",
              "      <td>0.04</td>\n",
              "      <td>194.38</td>\n",
              "      <td>6.901511</td>\n",
              "      <td>1552.84</td>\n",
              "      <td>43.0</td>\n",
              "      <td>4.26</td>\n",
              "      <td>97.87</td>\n",
              "      <td>27.233953</td>\n",
              "      <td>1171.06</td>\n",
              "      <td>0.0</td>\n",
              "      <td>97.0</td>\n",
              "      <td>0.0</td>\n",
              "      <td>0.0</td>\n",
              "      <td>0.0</td>\n",
              "      <td>128.0</td>\n",
              "      <td>0.0</td>\n",
              "      <td>0.0</td>\n",
              "      <td>0.0</td>\n",
              "      <td>37.0</td>\n",
              "      <td>6.0</td>\n",
              "      <td>1.0</td>\n",
              "      <td>7.0</td>\n",
              "      <td>44.666667</td>\n",
              "      <td>0.0</td>\n",
              "      <td>0.0</td>\n",
              "      <td>0.0</td>\n",
              "      <td>1.0</td>\n",
              "      <td>0.0</td>\n",
              "      <td>1.0</td>\n",
              "      <td>0.0</td>\n",
              "      <td>0.0</td>\n",
              "      <td>0.0</td>\n",
              "      <td>0.0</td>\n",
              "      <td>0.0</td>\n",
              "      <td>0.0</td>\n",
              "      <td>0.0</td>\n",
              "      <td>1.0</td>\n",
              "      <td>1.0</td>\n",
              "      <td>1.0</td>\n",
              "      <td>0.0</td>\n",
              "      <td>0.0</td>\n",
              "      <td>0.0</td>\n",
              "      <td>0.0</td>\n",
              "      <td>0</td>\n",
              "      <td>1</td>\n",
              "    </tr>\n",
              "    <tr>\n",
              "      <th>3</th>\n",
              "      <td>0</td>\n",
              "      <td>0</td>\n",
              "      <td>219</td>\n",
              "      <td>38</td>\n",
              "      <td>16</td>\n",
              "      <td>140.0</td>\n",
              "      <td>126.0</td>\n",
              "      <td>1.87</td>\n",
              "      <td>263.83</td>\n",
              "      <td>27.991667</td>\n",
              "      <td>3526.95</td>\n",
              "      <td>14.0</td>\n",
              "      <td>42.55</td>\n",
              "      <td>510.64</td>\n",
              "      <td>248.024286</td>\n",
              "      <td>3472.34</td>\n",
              "      <td>0.0</td>\n",
              "      <td>120.0</td>\n",
              "      <td>0.0</td>\n",
              "      <td>0.0</td>\n",
              "      <td>0.0</td>\n",
              "      <td>6.0</td>\n",
              "      <td>0.0</td>\n",
              "      <td>0.0</td>\n",
              "      <td>0.0</td>\n",
              "      <td>13.0</td>\n",
              "      <td>1.0</td>\n",
              "      <td>0.0</td>\n",
              "      <td>16.0</td>\n",
              "      <td>8.750000</td>\n",
              "      <td>0.0</td>\n",
              "      <td>0.0</td>\n",
              "      <td>0.0</td>\n",
              "      <td>0.0</td>\n",
              "      <td>0.0</td>\n",
              "      <td>0.0</td>\n",
              "      <td>0.0</td>\n",
              "      <td>0.0</td>\n",
              "      <td>0.0</td>\n",
              "      <td>0.0</td>\n",
              "      <td>0.0</td>\n",
              "      <td>0.0</td>\n",
              "      <td>1.0</td>\n",
              "      <td>0.0</td>\n",
              "      <td>0.0</td>\n",
              "      <td>5.0</td>\n",
              "      <td>0.0</td>\n",
              "      <td>0.0</td>\n",
              "      <td>0.0</td>\n",
              "      <td>0.0</td>\n",
              "      <td>0</td>\n",
              "      <td>1</td>\n",
              "    </tr>\n",
              "    <tr>\n",
              "      <th>4</th>\n",
              "      <td>0</td>\n",
              "      <td>0</td>\n",
              "      <td>0</td>\n",
              "      <td>27</td>\n",
              "      <td>17</td>\n",
              "      <td>50.0</td>\n",
              "      <td>41.0</td>\n",
              "      <td>1.50</td>\n",
              "      <td>92.00</td>\n",
              "      <td>13.691951</td>\n",
              "      <td>561.37</td>\n",
              "      <td>9.0</td>\n",
              "      <td>10.00</td>\n",
              "      <td>200.00</td>\n",
              "      <td>46.673333</td>\n",
              "      <td>420.06</td>\n",
              "      <td>0.0</td>\n",
              "      <td>37.0</td>\n",
              "      <td>4.0</td>\n",
              "      <td>0.0</td>\n",
              "      <td>0.0</td>\n",
              "      <td>0.0</td>\n",
              "      <td>1.0</td>\n",
              "      <td>0.0</td>\n",
              "      <td>0.0</td>\n",
              "      <td>8.0</td>\n",
              "      <td>0.0</td>\n",
              "      <td>4.0</td>\n",
              "      <td>15.0</td>\n",
              "      <td>4.545455</td>\n",
              "      <td>0.0</td>\n",
              "      <td>1.0</td>\n",
              "      <td>0.0</td>\n",
              "      <td>0.0</td>\n",
              "      <td>0.0</td>\n",
              "      <td>1.0</td>\n",
              "      <td>0.0</td>\n",
              "      <td>1.0</td>\n",
              "      <td>0.0</td>\n",
              "      <td>0.0</td>\n",
              "      <td>0.0</td>\n",
              "      <td>0.0</td>\n",
              "      <td>0.0</td>\n",
              "      <td>0.0</td>\n",
              "      <td>1.0</td>\n",
              "      <td>3.0</td>\n",
              "      <td>0.0</td>\n",
              "      <td>0.0</td>\n",
              "      <td>0.0</td>\n",
              "      <td>0.0</td>\n",
              "      <td>0</td>\n",
              "      <td>1</td>\n",
              "    </tr>\n",
              "  </tbody>\n",
              "</table>\n",
              "</div>"
            ],
            "text/plain": [
              "   user_settings_crypto_unlocked  plan  ...  brands_Android  brands_Apple\n",
              "0                              0     0  ...               0             1\n",
              "1                              1     0  ...               0             1\n",
              "2                              0     0  ...               0             1\n",
              "3                              0     0  ...               0             1\n",
              "4                              0     0  ...               0             1\n",
              "\n",
              "[5 rows x 52 columns]"
            ]
          },
          "metadata": {
            "tags": []
          },
          "execution_count": 7
        }
      ]
    },
    {
      "cell_type": "code",
      "metadata": {
        "id": "AzVgY9FxfY66",
        "colab_type": "code",
        "colab": {
          "base_uri": "https://localhost:8080/",
          "height": 1000
        },
        "outputId": "66718aa5-469d-4d7c-fb9d-2bbb6d8c282e"
      },
      "source": [
        "print(data_test.info())"
      ],
      "execution_count": 8,
      "outputs": [
        {
          "output_type": "stream",
          "text": [
            "<class 'pandas.core.frame.DataFrame'>\n",
            "RangeIndex: 15544 entries, 0 to 15543\n",
            "Data columns (total 52 columns):\n",
            " #   Column                                   Non-Null Count  Dtype  \n",
            "---  ------                                   --------------  -----  \n",
            " 0   user_settings_crypto_unlocked            15544 non-null  int64  \n",
            " 1   plan                                     15544 non-null  int64  \n",
            " 2   num_contacts                             15544 non-null  int64  \n",
            " 3   age                                      15544 non-null  int64  \n",
            " 4   duration                                 15544 non-null  int64  \n",
            " 5   total_amount_of_transactions             15544 non-null  float64\n",
            " 6   amount_of_transactions_out               15544 non-null  float64\n",
            " 7   min_usd_out                              15544 non-null  float64\n",
            " 8   max_usd_out                              15544 non-null  float64\n",
            " 9   mean_usd_out                             15544 non-null  float64\n",
            " 10  sum_usd_out                              15544 non-null  float64\n",
            " 11  amount_of_transactions_in                15544 non-null  float64\n",
            " 12  min_usd_in                               15544 non-null  float64\n",
            " 13  max_usd_in                               15544 non-null  float64\n",
            " 14  mean_usd_in                              15544 non-null  float64\n",
            " 15  sum_usd_in                               15544 non-null  float64\n",
            " 16  count_type_atm                           15544 non-null  float64\n",
            " 17  count_type_card_payment                  15544 non-null  float64\n",
            " 18  count_type_exchange                      15544 non-null  float64\n",
            " 19  count_type_fee                           15544 non-null  float64\n",
            " 20  count_type_tax                           15544 non-null  float64\n",
            " 21  count_type_transfer_out                  15544 non-null  float64\n",
            " 22  count_type_card_refund                   15544 non-null  float64\n",
            " 23  count_type_cashback                      15544 non-null  float64\n",
            " 24  count_type_refund                        15544 non-null  float64\n",
            " 25  count_type_topup                         15544 non-null  float64\n",
            " 26  count_type_transfer_in                   15544 non-null  float64\n",
            " 27  months_from_last_transaction             15544 non-null  float64\n",
            " 28  months_from_first_transaction            15544 non-null  float64\n",
            " 29  transactions_frequency                   15544 non-null  float64\n",
            " 30  email_engagement_split_bill_restaurant   15544 non-null  float64\n",
            " 31  email_invest_in_gold                     15544 non-null  float64\n",
            " 32  email_lost_card_order                    15544 non-null  float64\n",
            " 33  email_made_money_request_not_split_bill  15544 non-null  float64\n",
            " 34  email_no_initial_card_order              15544 non-null  float64\n",
            " 35  email_no_initial_card_use                15544 non-null  float64\n",
            " 36  email_onboarding_tips_activated_users    15544 non-null  float64\n",
            " 37  email_promo                              15544 non-null  float64\n",
            " 38  email_promo_card_order                   15544 non-null  float64\n",
            " 39  email_welcome_back                       15544 non-null  float64\n",
            " 40  push_black_friday                        15544 non-null  float64\n",
            " 41  push_blue_tuesday                        15544 non-null  float64\n",
            " 42  push_joining_anniversary                 15544 non-null  float64\n",
            " 43  push_lost_card_order                     15544 non-null  float64\n",
            " 44  push_promo                               15544 non-null  float64\n",
            " 45  push_reengagement_active_funds           15544 non-null  float64\n",
            " 46  push_silver_engagement_fees_saved        15544 non-null  float64\n",
            " 47  push_silver_engagement_inactive_card     15544 non-null  float64\n",
            " 48  sms_metal_reserve_plan                   15544 non-null  float64\n",
            " 49  sms_reengagement_active_funds            15544 non-null  float64\n",
            " 50  brands_Android                           15544 non-null  int64  \n",
            " 51  brands_Apple                             15544 non-null  int64  \n",
            "dtypes: float64(45), int64(7)\n",
            "memory usage: 6.2 MB\n",
            "None\n"
          ],
          "name": "stdout"
        }
      ]
    },
    {
      "cell_type": "code",
      "metadata": {
        "id": "CIayZLJje1jV",
        "colab_type": "code",
        "colab": {
          "base_uri": "https://localhost:8080/",
          "height": 439
        },
        "outputId": "e4af1c14-3f61-4755-d4f6-9a14356609e8"
      },
      "source": [
        "data_test.boxplot('total_amount_of_transactions','plan',rot = 30,figsize=(5,6))"
      ],
      "execution_count": 17,
      "outputs": [
        {
          "output_type": "execute_result",
          "data": {
            "text/plain": [
              "<matplotlib.axes._subplots.AxesSubplot at 0x7f0d706dabe0>"
            ]
          },
          "metadata": {
            "tags": []
          },
          "execution_count": 17
        },
        {
          "output_type": "display_data",
          "data": {
            "image/png": "[encoded data removed]",
            "text/plain": [
              "<Figure size 360x432 with 1 Axes>"
            ]
          },
          "metadata": {
            "tags": [],
            "needs_background": "light"
          }
        }
      ]
    },
    {
      "cell_type": "code",
      "metadata": {
        "id": "aEhh5nI7fyVa",
        "colab_type": "code",
        "colab": {
          "base_uri": "https://localhost:8080/",
          "height": 439
        },
        "outputId": "e01df508-b1d9-4d15-8c7a-8db10d97b182"
      },
      "source": [
        "data_test.boxplot('email_promo','plan',rot = 30,figsize=(5,6))"
      ],
      "execution_count": 16,
      "outputs": [
        {
          "output_type": "execute_result",
          "data": {
            "text/plain": [
              "<matplotlib.axes._subplots.AxesSubplot at 0x7f0d711cab38>"
            ]
          },
          "metadata": {
            "tags": []
          },
          "execution_count": 16
        },
        {
          "output_type": "display_data",
          "data": {
            "image/png": "[encoded data removed]",
            "text/plain": [
              "<Figure size 360x432 with 1 Axes>"
            ]
          },
          "metadata": {
            "tags": [],
            "needs_background": "light"
          }
        }
      ]
    },
    {
      "cell_type": "code",
      "metadata": {
        "id": "6nXjzwgYf4Tf",
        "colab_type": "code",
        "colab": {
          "base_uri": "https://localhost:8080/",
          "height": 439
        },
        "outputId": "4817d027-87e1-49b6-bf4f-a861cda5bd43"
      },
      "source": [
        "data_test.boxplot('brands_Apple','plan',rot=30,figsize=(5,6))"
      ],
      "execution_count": 15,
      "outputs": [
        {
          "output_type": "execute_result",
          "data": {
            "text/plain": [
              "<matplotlib.axes._subplots.AxesSubplot at 0x7f0d711ba5c0>"
            ]
          },
          "metadata": {
            "tags": []
          },
          "execution_count": 15
        },
        {
          "output_type": "display_data",
          "data": {
            "image/png": "[encoded data removed]",
            "text/plain": [
              "<Figure size 360x432 with 1 Axes>"
            ]
          },
          "metadata": {
            "tags": [],
            "needs_background": "light"
          }
        }
      ]
    },
    {
      "cell_type": "code",
      "metadata": {
        "id": "ccKIYhNcgI8m",
        "colab_type": "code",
        "colab": {
          "base_uri": "https://localhost:8080/",
          "height": 439
        },
        "outputId": "3a077974-3c6e-417c-980c-45954e572b12"
      },
      "source": [
        "data_test.boxplot('transactions_frequency','plan',rot=30,figsize=(5,6))"
      ],
      "execution_count": 14,
      "outputs": [
        {
          "output_type": "execute_result",
          "data": {
            "text/plain": [
              "<matplotlib.axes._subplots.AxesSubplot at 0x7f0d86960b00>"
            ]
          },
          "metadata": {
            "tags": []
          },
          "execution_count": 14
        },
        {
          "output_type": "display_data",
          "data": {
            "image/png": "[encoded data removed]",
            "text/plain": [
              "<Figure size 360x432 with 1 Axes>"
            ]
          },
          "metadata": {
            "tags": [],
            "needs_background": "light"
          }
        }
      ]
    },
    {
      "cell_type": "code",
      "metadata": {
        "id": "u68e_oMOgRMv",
        "colab_type": "code",
        "colab": {
          "base_uri": "https://localhost:8080/",
          "height": 386
        },
        "outputId": "e7b3971e-db9a-47ee-e956-ee4d2a7fcac8"
      },
      "source": [
        "sns.relplot(x=\"transactions_frequency\",y =\"duration\", hue = \"plan\",data=data_test)"
      ],
      "execution_count": 21,
      "outputs": [
        {
          "output_type": "execute_result",
          "data": {
            "text/plain": [
              "<seaborn.axisgrid.FacetGrid at 0x7f0d70784358>"
            ]
          },
          "metadata": {
            "tags": []
          },
          "execution_count": 21
        },
        {
          "output_type": "display_data",
          "data": {
            "image/png": "[encoded data removed]",
            "text/plain": [
              "<Figure size 417.625x360 with 1 Axes>"
            ]
          },
          "metadata": {
            "tags": [],
            "needs_background": "light"
          }
        }
      ]
    },
    {
      "cell_type": "code",
      "metadata": {
        "id": "LZDVspaCtn47",
        "colab_type": "code",
        "colab": {
          "base_uri": "https://localhost:8080/",
          "height": 296
        },
        "outputId": "e5760879-f535-437d-d428-9a613ac0e860"
      },
      "source": [
        "sns.set_style('whitegrid')\n",
        "sns.countplot(x='plan',data=data_test)"
      ],
      "execution_count": 22,
      "outputs": [
        {
          "output_type": "execute_result",
          "data": {
            "text/plain": [
              "<matplotlib.axes._subplots.AxesSubplot at 0x7f0d66b51668>"
            ]
          },
          "metadata": {
            "tags": []
          },
          "execution_count": 22
        },
        {
          "output_type": "display_data",
          "data": {
            "image/png": "[encoded data removed]",
            "text/plain": [
              "<Figure size 432x288 with 1 Axes>"
            ]
          },
          "metadata": {
            "tags": []
          }
        }
      ]
    },
    {
      "cell_type": "code",
      "metadata": {
        "id": "2JZkljjAtoiC",
        "colab_type": "code",
        "colab": {
          "base_uri": "https://localhost:8080/",
          "height": 296
        },
        "outputId": "b6f5bb49-f05f-4106-da8f-656067571779"
      },
      "source": [
        "sns.set_style('whitegrid')\n",
        "sns.countplot(x='plan',hue='email_promo',data=data_test,palette='rainbow')"
      ],
      "execution_count": 23,
      "outputs": [
        {
          "output_type": "execute_result",
          "data": {
            "text/plain": [
              "<matplotlib.axes._subplots.AxesSubplot at 0x7f0d66aad2e8>"
            ]
          },
          "metadata": {
            "tags": []
          },
          "execution_count": 23
        },
        {
          "output_type": "display_data",
          "data": {
            "image/png": "[encoded data removed]",
            "text/plain": [
              "<Figure size 432x288 with 1 Axes>"
            ]
          },
          "metadata": {
            "tags": []
          }
        }
      ]
    }
  ]
}